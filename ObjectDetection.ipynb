{
 "cells": [
  {
   "cell_type": "code",
   "execution_count": 4,
   "id": "725847b6-832b-4d18-a61b-c96d10c094ea",
   "metadata": {},
   "outputs": [],
   "source": [
    "import os\n",
    "import cv2\n",
    "import matplotlib.pyplot as plt4\n",
    "import numpy as np\n",
    "from matplotlib import ft2font"
   ]
  },
  {
   "cell_type": "code",
   "execution_count": 7,
   "id": "da1e477d-d225-4a4d-84dc-01ddd7bc9693",
   "metadata": {},
   "outputs": [
    {
     "ename": "SystemError",
     "evalue": "<class 'cv2.dnn.DetectionModel'> returned a result with an exception set",
     "output_type": "error",
     "traceback": [
      "\u001b[1;31m---------------------------------------------------------------------------\u001b[0m",
      "\u001b[1;31merror\u001b[0m                                     Traceback (most recent call last)",
      "\u001b[1;31merror\u001b[0m: OpenCV(4.7.0) D:\\a\\opencv-python\\opencv-python\\opencv\\modules\\dnn\\src\\caffe\\caffe_io.cpp:1138: error: (-2:Unspecified error) FAILED: fs.is_open(). Can't open \"../input/objectdetection/frozen_inference_graph.pb\" in function 'cv::dnn::ReadProtoFromBinaryFile'\n",
      "\nThe above exception was the direct cause of the following exception:\n",
      "\u001b[1;31mSystemError\u001b[0m                               Traceback (most recent call last)",
      "Cell \u001b[1;32mIn[7], line 5\u001b[0m\n\u001b[0;32m      3\u001b[0m frozen_model\u001b[38;5;241m=\u001b[39m\u001b[38;5;124m'\u001b[39m\u001b[38;5;124m../input/objectdetection/frozen_inference_graph.pb\u001b[39m\u001b[38;5;124m'\u001b[39m\n\u001b[0;32m      4\u001b[0m \u001b[38;5;66;03m#Tenserflow object detection model\u001b[39;00m\n\u001b[1;32m----> 5\u001b[0m model \u001b[38;5;241m=\u001b[39m \u001b[43mcv2\u001b[49m\u001b[38;5;241;43m.\u001b[39;49m\u001b[43mdnn_DetectionModel\u001b[49m\u001b[43m(\u001b[49m\u001b[43mfrozen_model\u001b[49m\u001b[43m,\u001b[49m\u001b[43mconfig_file\u001b[49m\u001b[43m)\u001b[49m\n",
      "\u001b[1;31mSystemError\u001b[0m: <class 'cv2.dnn.DetectionModel'> returned a result with an exception set"
     ]
    }
   ],
   "source": [
    "#importing and using necessary files\n",
    "config_file='../input/objectdetection/ssd_mobilenet_v3_large_coco_2020_01_14.pbtxt'\n",
    "frozen_model='../input/objectdetection/frozen_inference_graph.pb'\n",
    "#Tenserflow object detection model\n",
    "model = cv2.dnn_DetectionModel(frozen_model,config_file)"
   ]
  },
  {
   "cell_type": "code",
   "execution_count": null,
   "id": "c19a1cd1-4c6e-4479-a2be-9435675f14c1",
   "metadata": {},
   "outputs": [],
   "source": []
  }
 ],
 "metadata": {
  "kernelspec": {
   "display_name": "Python 3 (ipykernel)",
   "language": "python",
   "name": "python3"
  },
  "language_info": {
   "codemirror_mode": {
    "name": "ipython",
    "version": 3
   },
   "file_extension": ".py",
   "mimetype": "text/x-python",
   "name": "python",
   "nbconvert_exporter": "python",
   "pygments_lexer": "ipython3",
   "version": "3.10.11"
  }
 },
 "nbformat": 4,
 "nbformat_minor": 5
}
