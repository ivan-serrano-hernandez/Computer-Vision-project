{
 "cells": [
  {
   "cell_type": "markdown",
   "id": "8ef4cd43",
   "metadata": {},
   "source": [
    "# Testing"
   ]
  },
  {
   "cell_type": "code",
   "execution_count": null,
   "id": "b0cb11f2",
   "metadata": {},
   "outputs": [],
   "source": [
    "import pandas as pd\n",
    "import matplotlib.pyplot as plt\n",
    "import sklearn\n",
    "import os\n",
    "import cv2\n",
    "import numpy as np\n",
    "import tensorflow as tf\n",
    "from tensorflow import keras\n",
    "from tensorflow.keras import layers\n",
    "from sklearn.model_selection import train_test_split\n",
    "from PIL import Image, ImageDraw"
   ]
  },
  {
   "cell_type": "code",
   "execution_count": 16,
   "id": "875504b3-20d5-4142-a96a-8e3b08dbef2b",
   "metadata": {},
   "outputs": [],
   "source": [
    "def getBoundingBoxes(file_path):\n",
    "    boundingBoxes = {}\n",
    "    with open(file_path,'r') as file:\n",
    "        for line in file:\n",
    "            l = line.split(',')\n",
    "            id,x1,y1,width,height,visible = list(map(int,l))\n",
    "            #bbox = patches.Rectangle((x1, y1), width, height, linewidth=1, edgecolor='red', facecolor='none')\n",
    "            boundingBoxes[id] = (x1,y1,width,height)\n",
    "    return boundingBoxes"
   ]
  },
  {
   "cell_type": "code",
   "execution_count": 17,
   "id": "963adf5a-d091-4ca1-9b80-ba684adedef1",
   "metadata": {},
   "outputs": [],
   "source": [
    "def draw_bounding_box(image_array, bounding_box, color='yellow', thickness=2):\n",
    "    # Convert the image array to PIL Image\n",
    "    image = Image.fromarray(np.uint8(image_array))\n",
    "    \n",
    "    # Create a copy of the image\n",
    "    image_with_box = image.copy()\n",
    "    \n",
    "    # Create a draw object\n",
    "    draw = ImageDraw.Draw(image_with_box)\n",
    "    \n",
    "    # Extract the bounding box coordinates\n",
    "    left, top, width, height = bounding_box\n",
    "    \n",
    "    # Calculate the right and bottom coordinates\n",
    "    right = left + width\n",
    "    bottom = top + height\n",
    "    \n",
    "    # Draw the bounding box\n",
    "    draw.rectangle([left, top, right, bottom], outline=color, width=thickness)\n",
    "    \n",
    "    # Convert the image with the bounding box back to NumPy array\n",
    "    image_array_with_box = np.array(image_with_box)\n",
    "    \n",
    "    return image_array_with_box"
   ]
  },
  {
   "cell_type": "code",
   "execution_count": 97,
   "id": "d6c94f27-8160-4d46-8aae-287e1e8b7665",
   "metadata": {},
   "outputs": [],
   "source": [
    "def get_dataset(img_path):\n",
    "    file_path = os.path.join('datasets',img_path,'img')\n",
    "    txt_path = os.path.join('datasets',img_path, \"groundtruth_rect.txt\")\n",
    "    boundingBoxes = getBoundingBoxes(txt_path)\n",
    "    x = []\n",
    "    y = []\n",
    "    i = 1\n",
    "    for filename in os.listdir(file_path):\n",
    "        img_path = os.path.join(file_path,filename)\n",
    "        img = plt.imread(img_path)\n",
    "        img = cv2.resize(img, (320,180))\n",
    "        x.append(img)\n",
    "        #test_img = draw_bounding_box(img,boundingBoxes[i])\n",
    "        \n",
    "        y.append(boundingBoxes[i][0])\n",
    "        \n",
    "        i+=1\n",
    "        \n",
    "    x_train,x_test, y_train, y_test = train_test_split(x,y,test_size=0.1)\n",
    "    return (np.array(x_train),np.array(x_test), np.array(y_train), np.array(y_test))"
   ]
  },
  {
   "cell_type": "code",
   "execution_count": 98,
   "id": "7c83cb18-2099-483b-9f3d-ec1f633beff7",
   "metadata": {},
   "outputs": [],
   "source": [
    "def get_model():\n",
    "    model = keras.models.Sequential()\n",
    "    model.add(keras.layers.Conv2D(32, (3, 3), activation='relu', input_shape=(180, 320, 3)))\n",
    "    model.add(keras.layers.MaxPooling2D((2, 2)))\n",
    "    model.add(keras.layers.Conv2D(64, (3, 3), activation='relu'))\n",
    "    model.add(keras.layers.MaxPooling2D((2, 2)))\n",
    "    model.add(keras.layers.Flatten())\n",
    "    model.add(keras.layers.Dense(128, activation='relu'))\n",
    "    model.add(keras.layers.Dense(64, activation='relu'))\n",
    "    model.add(keras.layers.Dense(4))\n",
    "    model.add(keras.layers.Dense(1))\n",
    "    model.compile(loss='categorical_crossentropy', optimizer='adam', metrics=['accuracy'])\n",
    "    return model"
   ]
  },
  {
   "cell_type": "code",
   "execution_count": 99,
   "id": "9c988620-896b-4a37-a4e7-caba2c42dd72",
   "metadata": {},
   "outputs": [],
   "source": [
    "dataset = 'MotorcycleChase'\n",
    "x_train,x_test, y_train, y_test = get_dataset(dataset)"
   ]
  },
  {
   "cell_type": "code",
   "execution_count": 100,
   "id": "f452baa6-cc4d-4243-b53b-1c4593779887",
   "metadata": {},
   "outputs": [
    {
     "name": "stdout",
     "output_type": "stream",
     "text": [
      "Model: \"sequential_3\"\n",
      "_________________________________________________________________\n",
      " Layer (type)                Output Shape              Param #   \n",
      "=================================================================\n",
      " conv2d_6 (Conv2D)           (None, 178, 318, 32)      896       \n",
      "                                                                 \n",
      " max_pooling2d_6 (MaxPooling  (None, 89, 159, 32)      0         \n",
      " 2D)                                                             \n",
      "                                                                 \n",
      " conv2d_7 (Conv2D)           (None, 87, 157, 64)       18496     \n",
      "                                                                 \n",
      " max_pooling2d_7 (MaxPooling  (None, 43, 78, 64)       0         \n",
      " 2D)                                                             \n",
      "                                                                 \n",
      " flatten_3 (Flatten)         (None, 214656)            0         \n",
      "                                                                 \n",
      " dense_12 (Dense)            (None, 128)               27476096  \n",
      "                                                                 \n",
      " dense_13 (Dense)            (None, 64)                8256      \n",
      "                                                                 \n",
      " dense_14 (Dense)            (None, 4)                 260       \n",
      "                                                                 \n",
      " dense_15 (Dense)            (None, 1)                 5         \n",
      "                                                                 \n",
      "=================================================================\n",
      "Total params: 27,504,009\n",
      "Trainable params: 27,504,009\n",
      "Non-trainable params: 0\n",
      "_________________________________________________________________\n"
     ]
    }
   ],
   "source": [
    "model = get_model()\n",
    "model.summary()"
   ]
  },
  {
   "cell_type": "code",
   "execution_count": 102,
   "id": "3c5b6173-98aa-4146-ac4e-976ba71ffe73",
   "metadata": {},
   "outputs": [],
   "source": [
    "early_stopping = keras.callbacks.EarlyStopping(monitor='val_accuracy', patience=10, restore_best_weights=True)"
   ]
  },
  {
   "cell_type": "code",
   "execution_count": 103,
   "id": "4985081f-280a-47ac-b632-02299058a256",
   "metadata": {},
   "outputs": [
    {
     "name": "stdout",
     "output_type": "stream",
     "text": [
      "Epoch 1/15\n",
      "17/17 [==============================] - 13s 751ms/step - loss: 6.3211e-05 - accuracy: 0.0000e+00 - val_loss: 6.3498e-05 - val_accuracy: 0.0000e+00\n",
      "Epoch 2/15\n",
      "17/17 [==============================] - 13s 753ms/step - loss: 6.3211e-05 - accuracy: 0.0000e+00 - val_loss: 6.3498e-05 - val_accuracy: 0.0000e+00\n",
      "Epoch 3/15\n",
      "17/17 [==============================] - 13s 752ms/step - loss: 6.3211e-05 - accuracy: 0.0000e+00 - val_loss: 6.3498e-05 - val_accuracy: 0.0000e+00\n",
      "Epoch 4/15\n",
      "17/17 [==============================] - 13s 759ms/step - loss: 6.3211e-05 - accuracy: 0.0000e+00 - val_loss: 6.3498e-05 - val_accuracy: 0.0000e+00\n",
      "Epoch 5/15\n",
      "17/17 [==============================] - 13s 755ms/step - loss: 6.3211e-05 - accuracy: 0.0000e+00 - val_loss: 6.3498e-05 - val_accuracy: 0.0000e+00\n",
      "Epoch 6/15\n",
      "17/17 [==============================] - 13s 760ms/step - loss: 6.3211e-05 - accuracy: 0.0000e+00 - val_loss: 6.3498e-05 - val_accuracy: 0.0000e+00\n",
      "Epoch 7/15\n",
      "17/17 [==============================] - 13s 756ms/step - loss: 6.3211e-05 - accuracy: 0.0000e+00 - val_loss: 6.3498e-05 - val_accuracy: 0.0000e+00\n",
      "Epoch 8/15\n",
      "17/17 [==============================] - 13s 761ms/step - loss: 6.3211e-05 - accuracy: 0.0000e+00 - val_loss: 6.3498e-05 - val_accuracy: 0.0000e+00\n",
      "Epoch 9/15\n",
      "17/17 [==============================] - 13s 765ms/step - loss: 6.3211e-05 - accuracy: 0.0000e+00 - val_loss: 6.3498e-05 - val_accuracy: 0.0000e+00\n",
      "Epoch 10/15\n",
      "17/17 [==============================] - 13s 771ms/step - loss: 6.3211e-05 - accuracy: 0.0000e+00 - val_loss: 6.3498e-05 - val_accuracy: 0.0000e+00\n",
      "Epoch 11/15\n",
      "17/17 [==============================] - 13s 762ms/step - loss: 6.3211e-05 - accuracy: 0.0000e+00 - val_loss: 6.3498e-05 - val_accuracy: 0.0000e+00\n",
      "CPU times: total: 29min 57s\n",
      "Wall time: 2min 21s\n"
     ]
    }
   ],
   "source": [
    "%%time\n",
    "history = model.fit(x_train, y_train,epochs=15, validation_data=(x_test,y_test), verbose=1, callbacks= early_stopping)"
   ]
  },
  {
   "cell_type": "code",
   "execution_count": 1,
   "id": "95bd5ecc-295a-4c30-8fb6-8713602cc40c",
   "metadata": {},
   "outputs": [
    {
     "ename": "NameError",
     "evalue": "name 'plt' is not defined",
     "output_type": "error",
     "traceback": [
      "\u001b[1;31m---------------------------------------------------------------------------\u001b[0m",
      "\u001b[1;31mNameError\u001b[0m                                 Traceback (most recent call last)",
      "Cell \u001b[1;32mIn[1], line 2\u001b[0m\n\u001b[0;32m      1\u001b[0m img_path \u001b[38;5;241m=\u001b[39m \u001b[38;5;124m'\u001b[39m\u001b[38;5;124m./datasets/MotorcycleChase/img/00001.jpg\u001b[39m\u001b[38;5;124m'\u001b[39m\n\u001b[1;32m----> 2\u001b[0m img \u001b[38;5;241m=\u001b[39m \u001b[43mplt\u001b[49m\u001b[38;5;241m.\u001b[39mimread(img_path)\n\u001b[0;32m      3\u001b[0m img \u001b[38;5;241m=\u001b[39m cv2\u001b[38;5;241m.\u001b[39mresize(img, (\u001b[38;5;241m320\u001b[39m,\u001b[38;5;241m180\u001b[39m))\n\u001b[0;32m      4\u001b[0m prediction \u001b[38;5;241m=\u001b[39m model\u001b[38;5;241m.\u001b[39mpredict(img)\n",
      "\u001b[1;31mNameError\u001b[0m: name 'plt' is not defined"
     ]
    }
   ],
   "source": [
    "img_path = './datasets/MotorcycleChase/img/00001.jpg'\n",
    "img = plt.imread(img_path)\n",
    "img = cv2.resize(img, (320,180))\n",
    "prediction = model.predict(img)\n",
    "prob = prediction.max()"
   ]
  },
  {
   "cell_type": "code",
   "execution_count": 106,
   "id": "c4a5a4b5-9c2e-4a0f-926d-1c9262cd0311",
   "metadata": {},
   "outputs": [
    {
     "data": {
      "text/plain": [
       "(180, 320, 3)"
      ]
     },
     "execution_count": 106,
     "metadata": {},
     "output_type": "execute_result"
    }
   ],
   "source": [
    "img.shape"
   ]
  },
  {
   "cell_type": "code",
   "execution_count": null,
   "id": "40c71a23-5ef8-4fce-b434-14441271494b",
   "metadata": {},
   "outputs": [],
   "source": []
  }
 ],
 "metadata": {
  "kernelspec": {
   "display_name": "Python 3 (ipykernel)",
   "language": "python",
   "name": "python3"
  },
  "language_info": {
   "codemirror_mode": {
    "name": "ipython",
    "version": 3
   },
   "file_extension": ".py",
   "mimetype": "text/x-python",
   "name": "python",
   "nbconvert_exporter": "python",
   "pygments_lexer": "ipython3",
   "version": "3.9.16"
  }
 },
 "nbformat": 4,
 "nbformat_minor": 5
}
