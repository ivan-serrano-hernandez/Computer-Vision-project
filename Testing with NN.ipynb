{
 "cells": [
  {
   "cell_type": "markdown",
   "id": "8ef4cd43",
   "metadata": {},
   "source": [
    "# Testing"
   ]
  },
  {
   "cell_type": "code",
   "execution_count": 17,
   "id": "b0cb11f2",
   "metadata": {},
   "outputs": [],
   "source": [
    "import pandas as pd\n",
    "import matplotlib.pyplot as plt\n",
    "import sklearn\n",
    "import numpy as np\n",
    "import tensorflow as tf\n",
    "from tensorflow import keras\n",
    "from tensorflow.keras import layers"
   ]
  },
  {
   "cell_type": "code",
   "execution_count": 10,
   "id": "1c27f5f8",
   "metadata": {},
   "outputs": [],
   "source": [
    "im = plt.imread('MotorcycleChase/img/00001.jpg')"
   ]
  },
  {
   "cell_type": "code",
   "execution_count": 16,
   "id": "33cb51d5",
   "metadata": {
    "scrolled": true
   },
   "outputs": [
    {
     "data": {
      "text/plain": [
       "(720, 1280, 3)"
      ]
     },
     "execution_count": 16,
     "metadata": {},
     "output_type": "execute_result"
    }
   ],
   "source": [
    "im.shape "
   ]
  },
  {
   "cell_type": "code",
   "execution_count": null,
   "id": "3b8665ab",
   "metadata": {},
   "outputs": [],
   "source": [
    "def data_transformation(path, label):\n",
    "    img = tf.io.read_file(path)\n",
    "    img = tf.image.decode_jpeg(img, channels=3)\n",
    "    img = tf.cast(img, tf.float32)/255\n",
    "    img = tf.image.resize(img, (128,128))\n",
    "    return (img , label)"
   ]
  },
  {
   "cell_type": "code",
   "execution_count": null,
   "id": "4b994616",
   "metadata": {},
   "outputs": [],
   "source": [
    "def create_dataset(image_path, batch_size=128):\n",
    "    content = [(os.path.join(image_path,'cat',file), [1,0]) for file in os.listdir(os.path.join(image_path, 'cat'))]\n",
    "    content += [(os.path.join(image_path,'dog',file), [0,1]) for file in os.listdir(os.path.join(image_path, 'dog'))]\n",
    "\n",
    "    X_train, X_test, Y_train, Y_test = train_test_split([a for (a,_) in content],[b for (_,b) in content], test_size=0.2, random_state=22)\n",
    "    \n",
    "    train_dataset = tf.data.Dataset.from_tensor_slices((tf.constant(X_train), tf.constant(Y_train))).map(data_transformation, num_parallel_calls=tf.data.experimental.AUTOTUNE).cache().batch(batch_size)\n",
    "    test_dataset  = tf.data.Dataset.from_tensor_slices((tf.constant(X_test), tf.constant(Y_test))).map(data_transformation, num_parallel_calls=tf.data.experimental.AUTOTUNE).cache().batch(batch_size)\n",
    "    \n",
    "    return train_dataset, test_dataset"
   ]
  },
  {
   "cell_type": "code",
   "execution_count": null,
   "id": "79e32077",
   "metadata": {},
   "outputs": [],
   "source": []
  },
  {
   "cell_type": "code",
   "execution_count": null,
   "id": "9ef093fe",
   "metadata": {},
   "outputs": [],
   "source": [
    "def get_model():\n",
    "    model = keras.models.Sequential()\n",
    "    model.add(layers.Conv2D(32,3,activation='relu',input_shape=(128,640,3))))\n",
    "    model.add(layers.MaxPooling2D())\n",
    "    model.add(layers.Conv2D(64,3,activation='relu')))\n",
    "    model.add(layers.MaxPooling2D())\n",
    "    model.add(layers.Flatten())\n",
    "    model.add(layers.Dense(256,activation='relu')))\n",
    "    model.add(layers.Dropout(0.2))\n",
    "    model.add(layers.Dense(128,activation='relu')))\n",
    "    model.add(layers.Dropout(0.2))\n",
    "    model.add(layers.Denese(32,activation='relu')))\n",
    "    model.add(layers.Dropout(0.2))\n",
    "    model.add(layers.Denese(4,activation='softmax')))\n",
    "    model.compile(loss='categorical_crossentropy',optimizer ='adam', metrics=['accuracy', 'f1-score'])\n",
    "    return model"
   ]
  },
  {
   "cell_type": "code",
   "execution_count": null,
   "id": "340d2b72",
   "metadata": {},
   "outputs": [],
   "source": [
    "model = get_model()\n",
    "model.summary()"
   ]
  }
 ],
 "metadata": {
  "kernelspec": {
   "display_name": "Python 3 (ipykernel)",
   "language": "python",
   "name": "python3"
  },
  "language_info": {
   "codemirror_mode": {
    "name": "ipython",
    "version": 3
   },
   "file_extension": ".py",
   "mimetype": "text/x-python",
   "name": "python",
   "nbconvert_exporter": "python",
   "pygments_lexer": "ipython3",
   "version": "3.9.16"
  }
 },
 "nbformat": 4,
 "nbformat_minor": 5
}
